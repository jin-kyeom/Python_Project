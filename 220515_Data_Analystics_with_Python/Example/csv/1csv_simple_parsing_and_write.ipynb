{
 "cells": [
  {
   "cell_type": "code",
   "execution_count": 21,
   "metadata": {},
   "outputs": [
    {
     "ename": "IndentationError",
     "evalue": "unindent does not match any outer indentation level (<tokenize>, line 18)",
     "output_type": "error",
     "traceback": [
      "\u001b[1;36m  File \u001b[1;32m<tokenize>:18\u001b[1;36m\u001b[0m\n\u001b[1;33m    print(row)\u001b[0m\n\u001b[1;37m    ^\u001b[0m\n\u001b[1;31mIndentationError\u001b[0m\u001b[1;31m:\u001b[0m unindent does not match any outer indentation level\n"
     ]
    }
   ],
   "source": [
    "#!/usr/bin/env python3\n",
    "import sys\n",
    "\n",
    "#input_file = sys.argv[1]\n",
    "#output_file = sys.argv[2]\n",
    "input_file = 'supplier_data.csv'\n",
    "output_file = '1output.csv'\n",
    "\n",
    "with open(input_file, 'r', newline='') as filereader:\n",
    "\twith open(output_file, 'w', newline='') as filewriter:\n",
    "\t\theader = filereader.readline()\n",
    "        #print(header)\n",
    "\t\theader = header.strip()\n",
    "\t\theader_list = header.split(',')\n",
    "\t\tprint(header_list)\n",
    "\t\tfilewriter.write(','.join(map(str,header_list))+'\\n')\n",
    "\t\tfor row in filereader:\n",
    "\t\t\trow = row.strip()\n",
    "\t\t\trow_list = row.split(',')\n",
    "\t\t\tprint(row_list)\n",
    "\t\t\tfilewriter.write(','.join(map(str,row_list))+'\\n')"
   ]
  },
  {
   "cell_type": "code",
   "execution_count": 8,
   "metadata": {},
   "outputs": [
    {
     "name": "stdout",
     "output_type": "stream",
     "text": [
      "<_io.TextIOWrapper name='supplier_data.csv' mode='r' encoding='UTF-8'>\n"
     ]
    },
    {
     "ename": "ValueError",
     "evalue": "I/O operation on closed file.",
     "output_type": "error",
     "traceback": [
      "\u001b[1;31m---------------------------------------------------------------------------\u001b[0m",
      "\u001b[1;31mValueError\u001b[0m                                Traceback (most recent call last)",
      "\u001b[1;32mc:\\0_Git_Python\\Python_Project\\220515_Data_Analystics_with_Python\\Example\\csv\\1csv_simple_parsing_and_write.ipynb Cell 2'\u001b[0m in \u001b[0;36m<cell line: 2>\u001b[1;34m()\u001b[0m\n\u001b[0;32m      <a href='vscode-notebook-cell:/c%3A/0_Git_Python/Python_Project/220515_Data_Analystics_with_Python/Example/csv/1csv_simple_parsing_and_write.ipynb#ch0000001?line=0'>1</a>\u001b[0m \u001b[39mprint\u001b[39m(filereader)\n\u001b[1;32m----> <a href='vscode-notebook-cell:/c%3A/0_Git_Python/Python_Project/220515_Data_Analystics_with_Python/Example/csv/1csv_simple_parsing_and_write.ipynb#ch0000001?line=1'>2</a>\u001b[0m filereader\u001b[39m.\u001b[39;49mreadline()\n",
      "\u001b[1;31mValueError\u001b[0m: I/O operation on closed file."
     ]
    }
   ],
   "source": [
    "print(filereader)\n",
    "filereader.readline()"
   ]
  },
  {
   "cell_type": "code",
   "execution_count": null,
   "metadata": {},
   "outputs": [],
   "source": []
  }
 ],
 "metadata": {
  "kernelspec": {
   "display_name": "conda",
   "language": "python",
   "name": "conda"
  },
  "language_info": {
   "codemirror_mode": {
    "name": "ipython",
    "version": 3
   },
   "file_extension": ".py",
   "mimetype": "text/x-python",
   "name": "python",
   "nbconvert_exporter": "python",
   "pygments_lexer": "ipython3",
   "version": "3.9.12"
  },
  "orig_nbformat": 4
 },
 "nbformat": 4,
 "nbformat_minor": 2
}
